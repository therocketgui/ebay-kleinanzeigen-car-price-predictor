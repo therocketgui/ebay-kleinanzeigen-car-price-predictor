{
 "cells": [
  {
   "cell_type": "code",
   "execution_count": 1,
   "id": "41caf3bd",
   "metadata": {},
   "outputs": [],
   "source": [
    "import pandas as pd\n",
    "from datetime import datetime\n",
    "import matplotlib.pyplot as plt\n",
    "import seaborn as sns"
   ]
  },
  {
   "cell_type": "markdown",
   "id": "16785b22",
   "metadata": {},
   "source": [
    "## To - Do's\n",
    "\n",
    "#### general setup\n",
    "1. make the file path invariant by using import os\n",
    "2. make data cleaning python file \n",
    "\n",
    "\n",
    "#### machine learning model\n",
    "1. try KNeighboursRegressor\n",
    "2. try SGDRegressor\n",
    "3. try SVMRegressor\n",
    "4. try hyperparameter tuning using ElasticNet / GridSearch / GridSearchCV / RandomSearch"
   ]
  },
  {
   "cell_type": "markdown",
   "id": "cd722cb4",
   "metadata": {},
   "source": [
    "# Predicting Prices of used Cars sold on Ebay - Kleinanzeigen"
   ]
  },
  {
   "cell_type": "code",
   "execution_count": 2,
   "id": "9f29658b",
   "metadata": {},
   "outputs": [],
   "source": [
    "ebay = pd.read_csv(\"./data/ebay-8.csv\")"
   ]
  },
  {
   "cell_type": "code",
   "execution_count": 3,
   "id": "598e8bcf",
   "metadata": {},
   "outputs": [
    {
     "data": {
      "text/html": [
       "<div>\n",
       "<style scoped>\n",
       "    .dataframe tbody tr th:only-of-type {\n",
       "        vertical-align: middle;\n",
       "    }\n",
       "\n",
       "    .dataframe tbody tr th {\n",
       "        vertical-align: top;\n",
       "    }\n",
       "\n",
       "    .dataframe thead th {\n",
       "        text-align: right;\n",
       "    }\n",
       "</style>\n",
       "<table border=\"1\" class=\"dataframe\">\n",
       "  <thead>\n",
       "    <tr style=\"text-align: right;\">\n",
       "      <th></th>\n",
       "      <th>Marke</th>\n",
       "      <th>Modell</th>\n",
       "      <th>Kilometerstand</th>\n",
       "      <th>Erstzulassung</th>\n",
       "      <th>Kraftstoffart</th>\n",
       "      <th>Leistung</th>\n",
       "      <th>Getriebe</th>\n",
       "      <th>Fahrzeugtyp</th>\n",
       "      <th>Anzahl Türen</th>\n",
       "      <th>Umweltplakette</th>\n",
       "      <th>Außenfarbe</th>\n",
       "      <th>Material Innenausstattung</th>\n",
       "      <th>Fahrzeugzustand</th>\n",
       "      <th>price</th>\n",
       "      <th>url</th>\n",
       "      <th>HU bis</th>\n",
       "      <th>Schadstoffklasse</th>\n",
       "      <th>HU Monat</th>\n",
       "    </tr>\n",
       "  </thead>\n",
       "  <tbody>\n",
       "    <tr>\n",
       "      <th>0</th>\n",
       "      <td>Ford</td>\n",
       "      <td>Weitere Ford</td>\n",
       "      <td>69.800 km</td>\n",
       "      <td>Februar 2018</td>\n",
       "      <td>Benzin</td>\n",
       "      <td>530 PS</td>\n",
       "      <td>Automatik</td>\n",
       "      <td>SUV/Geländewagen</td>\n",
       "      <td>4/5</td>\n",
       "      <td>4 (Grün)</td>\n",
       "      <td>Schwarz</td>\n",
       "      <td>Vollleder</td>\n",
       "      <td>Unbeschädigtes Fahrzeug</td>\n",
       "      <td>67.900 € VB</td>\n",
       "      <td>https://www.ebay-kleinanzeigen.de/s-anzeige/fo...</td>\n",
       "      <td>NaN</td>\n",
       "      <td>NaN</td>\n",
       "      <td>NaN</td>\n",
       "    </tr>\n",
       "    <tr>\n",
       "      <th>1</th>\n",
       "      <td>BMW</td>\n",
       "      <td>3er</td>\n",
       "      <td>227.000 km</td>\n",
       "      <td>Juni 2002</td>\n",
       "      <td>Benzin</td>\n",
       "      <td>116 PS</td>\n",
       "      <td>Manuell</td>\n",
       "      <td>Kombi</td>\n",
       "      <td>4/5</td>\n",
       "      <td>4 (Grün)</td>\n",
       "      <td>Schwarz</td>\n",
       "      <td>Stoff</td>\n",
       "      <td>Unbeschädigtes Fahrzeug</td>\n",
       "      <td>1.500 € VB</td>\n",
       "      <td>https://www.ebay-kleinanzeigen.de/s-anzeige/bm...</td>\n",
       "      <td>Dezember 2021</td>\n",
       "      <td>Euro4</td>\n",
       "      <td>NaN</td>\n",
       "    </tr>\n",
       "    <tr>\n",
       "      <th>2</th>\n",
       "      <td>Opel</td>\n",
       "      <td>Insignia</td>\n",
       "      <td>12.076 km</td>\n",
       "      <td>März 2020</td>\n",
       "      <td>Diesel</td>\n",
       "      <td>170 PS</td>\n",
       "      <td>Automatik</td>\n",
       "      <td>Kombi</td>\n",
       "      <td>4/5</td>\n",
       "      <td>4 (Grün)</td>\n",
       "      <td>Schwarz</td>\n",
       "      <td>Stoff</td>\n",
       "      <td>Unbeschädigtes Fahrzeug</td>\n",
       "      <td>22.700 €</td>\n",
       "      <td>https://www.ebay-kleinanzeigen.de/s-anzeige/op...</td>\n",
       "      <td>März 2023</td>\n",
       "      <td>NaN</td>\n",
       "      <td>NaN</td>\n",
       "    </tr>\n",
       "    <tr>\n",
       "      <th>3</th>\n",
       "      <td>Ford</td>\n",
       "      <td>Fiesta</td>\n",
       "      <td>250.000 km</td>\n",
       "      <td>Mai 2001</td>\n",
       "      <td>NaN</td>\n",
       "      <td>NaN</td>\n",
       "      <td>NaN</td>\n",
       "      <td>Kombi</td>\n",
       "      <td>4/5</td>\n",
       "      <td>4 (Grün)</td>\n",
       "      <td>Schwarz</td>\n",
       "      <td>NaN</td>\n",
       "      <td>NaN</td>\n",
       "      <td>200 €</td>\n",
       "      <td>https://www.ebay-kleinanzeigen.de/s-anzeige/fo...</td>\n",
       "      <td>September 2023</td>\n",
       "      <td>NaN</td>\n",
       "      <td>NaN</td>\n",
       "    </tr>\n",
       "    <tr>\n",
       "      <th>4</th>\n",
       "      <td>Volkswagen</td>\n",
       "      <td>Golf</td>\n",
       "      <td>264.000 km</td>\n",
       "      <td>2000</td>\n",
       "      <td>Benzin</td>\n",
       "      <td>210 PS</td>\n",
       "      <td>Manuell</td>\n",
       "      <td>Kleinwagen</td>\n",
       "      <td>2/3</td>\n",
       "      <td>4 (Grün)</td>\n",
       "      <td>Schwarz</td>\n",
       "      <td>Stoff</td>\n",
       "      <td>NaN</td>\n",
       "      <td>4.500 € VB</td>\n",
       "      <td>https://www.ebay-kleinanzeigen.de/s-anzeige/go...</td>\n",
       "      <td>September 2022</td>\n",
       "      <td>NaN</td>\n",
       "      <td>NaN</td>\n",
       "    </tr>\n",
       "  </tbody>\n",
       "</table>\n",
       "</div>"
      ],
      "text/plain": [
       "        Marke        Modell Kilometerstand Erstzulassung Kraftstoffart  \\\n",
       "0        Ford  Weitere Ford      69.800 km  Februar 2018        Benzin   \n",
       "1         BMW           3er     227.000 km     Juni 2002        Benzin   \n",
       "2        Opel      Insignia      12.076 km     März 2020        Diesel   \n",
       "3        Ford        Fiesta     250.000 km      Mai 2001           NaN   \n",
       "4  Volkswagen          Golf     264.000 km          2000        Benzin   \n",
       "\n",
       "  Leistung   Getriebe       Fahrzeugtyp Anzahl Türen Umweltplakette  \\\n",
       "0   530 PS  Automatik  SUV/Geländewagen          4/5       4 (Grün)   \n",
       "1   116 PS    Manuell             Kombi          4/5       4 (Grün)   \n",
       "2   170 PS  Automatik             Kombi          4/5       4 (Grün)   \n",
       "3      NaN        NaN             Kombi          4/5       4 (Grün)   \n",
       "4   210 PS    Manuell        Kleinwagen          2/3       4 (Grün)   \n",
       "\n",
       "  Außenfarbe Material Innenausstattung          Fahrzeugzustand        price  \\\n",
       "0    Schwarz                 Vollleder  Unbeschädigtes Fahrzeug  67.900 € VB   \n",
       "1    Schwarz                     Stoff  Unbeschädigtes Fahrzeug   1.500 € VB   \n",
       "2    Schwarz                     Stoff  Unbeschädigtes Fahrzeug     22.700 €   \n",
       "3    Schwarz                       NaN                      NaN        200 €   \n",
       "4    Schwarz                     Stoff                      NaN   4.500 € VB   \n",
       "\n",
       "                                                 url          HU bis  \\\n",
       "0  https://www.ebay-kleinanzeigen.de/s-anzeige/fo...             NaN   \n",
       "1  https://www.ebay-kleinanzeigen.de/s-anzeige/bm...   Dezember 2021   \n",
       "2  https://www.ebay-kleinanzeigen.de/s-anzeige/op...       März 2023   \n",
       "3  https://www.ebay-kleinanzeigen.de/s-anzeige/fo...  September 2023   \n",
       "4  https://www.ebay-kleinanzeigen.de/s-anzeige/go...  September 2022   \n",
       "\n",
       "  Schadstoffklasse  HU Monat  \n",
       "0              NaN       NaN  \n",
       "1            Euro4       NaN  \n",
       "2              NaN       NaN  \n",
       "3              NaN       NaN  \n",
       "4              NaN       NaN  "
      ]
     },
     "execution_count": 3,
     "metadata": {},
     "output_type": "execute_result"
    }
   ],
   "source": [
    "ebay.head()"
   ]
  },
  {
   "cell_type": "code",
   "execution_count": 4,
   "id": "59ca1e3a",
   "metadata": {},
   "outputs": [
    {
     "data": {
      "text/plain": [
       "(14133, 18)"
      ]
     },
     "execution_count": 4,
     "metadata": {},
     "output_type": "execute_result"
    }
   ],
   "source": [
    "ebay.shape"
   ]
  },
  {
   "cell_type": "code",
   "execution_count": 5,
   "id": "658cb5b7",
   "metadata": {},
   "outputs": [
    {
     "name": "stdout",
     "output_type": "stream",
     "text": [
      "<class 'pandas.core.frame.DataFrame'>\n",
      "RangeIndex: 14133 entries, 0 to 14132\n",
      "Data columns (total 18 columns):\n",
      " #   Column                     Non-Null Count  Dtype  \n",
      "---  ------                     --------------  -----  \n",
      " 0   Marke                      14133 non-null  object \n",
      " 1   Modell                     13909 non-null  object \n",
      " 2   Kilometerstand             14133 non-null  object \n",
      " 3   Erstzulassung              14133 non-null  object \n",
      " 4   Kraftstoffart              13975 non-null  object \n",
      " 5   Leistung                   13612 non-null  object \n",
      " 6   Getriebe                   13951 non-null  object \n",
      " 7   Fahrzeugtyp                13402 non-null  object \n",
      " 8   Anzahl Türen               13662 non-null  object \n",
      " 9   Umweltplakette             11707 non-null  object \n",
      " 10  Außenfarbe                 14133 non-null  object \n",
      " 11  Material Innenausstattung  12563 non-null  object \n",
      " 12  Fahrzeugzustand            12234 non-null  object \n",
      " 13  price                      14133 non-null  object \n",
      " 14  url                        14133 non-null  object \n",
      " 15  HU bis                     10713 non-null  object \n",
      " 16  Schadstoffklasse           10995 non-null  object \n",
      " 17  HU Monat                   9 non-null      float64\n",
      "dtypes: float64(1), object(17)\n",
      "memory usage: 1.9+ MB\n"
     ]
    }
   ],
   "source": [
    "ebay.info()"
   ]
  },
  {
   "cell_type": "code",
   "execution_count": 6,
   "id": "2d0925c3",
   "metadata": {},
   "outputs": [
    {
     "data": {
      "text/plain": [
       "Marke                         0.000000\n",
       "Modell                        1.584943\n",
       "Kilometerstand                0.000000\n",
       "Erstzulassung                 0.000000\n",
       "Kraftstoffart                 1.117951\n",
       "Leistung                      3.686408\n",
       "Getriebe                      1.287766\n",
       "Fahrzeugtyp                   5.172292\n",
       "Anzahl Türen                  3.332626\n",
       "Umweltplakette               17.165499\n",
       "Außenfarbe                    0.000000\n",
       "Material Innenausstattung    11.108753\n",
       "Fahrzeugzustand              13.436638\n",
       "price                         0.000000\n",
       "url                           0.000000\n",
       "HU bis                       24.198684\n",
       "Schadstoffklasse             22.203354\n",
       "HU Monat                     99.936319\n",
       "dtype: float64"
      ]
     },
     "execution_count": 6,
     "metadata": {},
     "output_type": "execute_result"
    }
   ],
   "source": [
    "ebay.isna().sum() / len(ebay) *100"
   ]
  },
  {
   "cell_type": "markdown",
   "id": "390ce2da",
   "metadata": {},
   "source": [
    "## 2. Data Exploration &  Cleaning"
   ]
  },
  {
   "cell_type": "code",
   "execution_count": 7,
   "id": "c47f3604",
   "metadata": {},
   "outputs": [],
   "source": [
    "#drop irrelevant columns\n",
    "ebay.drop(columns= [\"HU Monat\", \"HU bis\", \"Schadstoffklasse\", \"Umweltplakette\", \"Modell\", \"url\"], axis = 1, inplace = True)"
   ]
  },
  {
   "cell_type": "code",
   "execution_count": 8,
   "id": "74ff2cc3",
   "metadata": {},
   "outputs": [],
   "source": [
    "#drop null values\n",
    "ebay.dropna(inplace= True)"
   ]
  },
  {
   "cell_type": "code",
   "execution_count": 9,
   "id": "6c7d124b",
   "metadata": {},
   "outputs": [],
   "source": [
    "#drop duplicates\n",
    "ebay = ebay.drop_duplicates().reset_index(drop= True)"
   ]
  },
  {
   "cell_type": "markdown",
   "id": "ba8920e4",
   "metadata": {},
   "source": [
    "### Price"
   ]
  },
  {
   "cell_type": "code",
   "execution_count": 10,
   "id": "c07bcc46",
   "metadata": {},
   "outputs": [],
   "source": [
    "#convert price to numeric feature\n",
    "ebay.price = pd.to_numeric(ebay.price.apply(lambda x: x.replace(\"€\",'').replace(\"VB\", '').replace('.','')))"
   ]
  },
  {
   "cell_type": "code",
   "execution_count": 11,
   "id": "98d348ce",
   "metadata": {},
   "outputs": [
    {
     "data": {
      "text/plain": [
       "count        8681.00\n",
       "mean        12636.97\n",
       "std        133657.37\n",
       "min             1.00\n",
       "25%          3800.00\n",
       "50%          8000.00\n",
       "75%         14890.00\n",
       "max      12345678.00\n",
       "Name: price, dtype: float64"
      ]
     },
     "execution_count": 11,
     "metadata": {},
     "output_type": "execute_result"
    }
   ],
   "source": [
    "#inspect descriptive statistics of price variable\n",
    "round(ebay.price.describe(),2)"
   ]
  },
  {
   "cell_type": "code",
   "execution_count": 12,
   "id": "db7b6742",
   "metadata": {},
   "outputs": [],
   "source": [
    "#drop price outliers\n",
    "i = ebay[ebay.price == ebay.price.max()].index\n",
    "ebay.drop(i, inplace= True)"
   ]
  },
  {
   "cell_type": "code",
   "execution_count": 13,
   "id": "b3b208a5",
   "metadata": {},
   "outputs": [
    {
     "data": {
      "image/png": "[encoded data removed]",
      "text/plain": [
       "<Figure size 1440x720 with 1 Axes>"
      ]
     },
     "metadata": {
      "needs_background": "light"
     },
     "output_type": "display_data"
    }
   ],
   "source": [
    "plt.figure(figsize= (20,10))\n",
    "sns.histplot(data= ebay, x= \"price\", kde= True);"
   ]
  },
  {
   "cell_type": "markdown",
   "id": "20ce7290",
   "metadata": {},
   "source": [
    "### Kilometerstand"
   ]
  },
  {
   "cell_type": "code",
   "execution_count": 14,
   "id": "ee06ff96",
   "metadata": {},
   "outputs": [],
   "source": [
    "#converting kilometers to numeric feature\n",
    "ebay.Kilometerstand = pd.to_numeric(ebay.Kilometerstand.apply(lambda x: x.replace(\"km\",'').replace('.','')))"
   ]
  },
  {
   "cell_type": "code",
   "execution_count": 15,
   "id": "ce477c11",
   "metadata": {},
   "outputs": [
    {
     "data": {
      "text/plain": [
       "count       8753.00\n",
       "mean      135223.97\n",
       "std        86968.07\n",
       "min            0.00\n",
       "25%        73000.00\n",
       "50%       128000.00\n",
       "75%       184000.00\n",
       "max      1920000.00\n",
       "Name: Kilometerstand, dtype: float64"
      ]
     },
     "execution_count": 15,
     "metadata": {},
     "output_type": "execute_result"
    }
   ],
   "source": [
    "#inspect descriptive statistics of price variable\n",
    "round(ebay.Kilometerstand.describe(),2)"
   ]
  },
  {
   "cell_type": "code",
   "execution_count": 16,
   "id": "5e11cffd",
   "metadata": {},
   "outputs": [],
   "source": [
    "#dropping outliers and false values\n",
    "i = []\n",
    "\n",
    "max_ = ebay[ebay.Kilometerstand == ebay.Kilometerstand.max()].index\n",
    "i.append(max_[0])\n",
    "\n",
    "wrong_values = [i for i in ebay[ebay.Kilometerstand == 999999].index]\n",
    "i.extend(wrong_values)\n",
    "\n",
    "ebay.drop(i, inplace= True)"
   ]
  },
  {
   "cell_type": "code",
   "execution_count": 17,
   "id": "8a7890e5",
   "metadata": {},
   "outputs": [],
   "source": [
    "#drop price outliers\n",
    "i = ebay[ebay.price == ebay.price.max()].index\n",
    "ebay.drop(i, inplace= True)"
   ]
  },
  {
   "cell_type": "code",
   "execution_count": 18,
   "id": "3b79114b",
   "metadata": {},
   "outputs": [
    {
     "data": {
      "image/png": "[encoded data removed]",
      "text/plain": [
       "<Figure size 720x360 with 1 Axes>"
      ]
     },
     "metadata": {
      "needs_background": "light"
     },
     "output_type": "display_data"
    }
   ],
   "source": [
    "#plotting distribution of driven kilometers as histogram\n",
    "plt.figure(figsize= (10,5))\n",
    "sns.histplot(data= ebay, x= \"Kilometerstand\", kde= True);"
   ]
  },
  {
   "cell_type": "markdown",
   "id": "fc6c4c63",
   "metadata": {},
   "source": [
    "### Leistung"
   ]
  },
  {
   "cell_type": "code",
   "execution_count": 19,
   "id": "ce86fd54",
   "metadata": {},
   "outputs": [],
   "source": [
    "#converting horsepowers to numeric value\n",
    "ebay[\"Leistung\"] = ebay[\"Leistung\"].apply(lambda x: int(x.replace(\"PS\", \"\")))"
   ]
  },
  {
   "cell_type": "code",
   "execution_count": 20,
   "id": "6f78220d",
   "metadata": {},
   "outputs": [
    {
     "data": {
      "text/plain": [
       "count    8745.000000\n",
       "mean      144.076272\n",
       "std        73.816719\n",
       "min         0.000000\n",
       "25%        99.000000\n",
       "50%       131.000000\n",
       "75%       170.000000\n",
       "max       700.000000\n",
       "Name: Leistung, dtype: float64"
      ]
     },
     "execution_count": 20,
     "metadata": {},
     "output_type": "execute_result"
    }
   ],
   "source": [
    "#inspecting summary statistics\n",
    "ebay.Leistung.describe()"
   ]
  },
  {
   "cell_type": "code",
   "execution_count": 21,
   "id": "00225654",
   "metadata": {},
   "outputs": [
    {
     "data": {
      "image/png": "[encoded data removed]",
      "text/plain": [
       "<Figure size 720x360 with 1 Axes>"
      ]
     },
     "metadata": {
      "needs_background": "light"
     },
     "output_type": "display_data"
    }
   ],
   "source": [
    "#plotting distribution of horsepower\n",
    "plt.figure(figsize= (10,5))\n",
    "sns.histplot(data= ebay, x= \"Leistung\", kde= True);"
   ]
  },
  {
   "cell_type": "markdown",
   "id": "dc72623b",
   "metadata": {},
   "source": [
    "### Erstzulassung"
   ]
  },
  {
   "cell_type": "code",
   "execution_count": 22,
   "id": "2f0cbbc7",
   "metadata": {},
   "outputs": [],
   "source": [
    "#creating a new feature \"Age\" by calculating nr. of years since initial registration\n",
    "year = datetime.now().year\n",
    "ebay[\"Alter\"] = year - ebay.Erstzulassung.apply(lambda x: int(x[-4:]))\n",
    "ebay.drop(\"Erstzulassung\", axis= 1, inplace= True)"
   ]
  },
  {
   "cell_type": "code",
   "execution_count": 23,
   "id": "811cdc23",
   "metadata": {},
   "outputs": [
    {
     "data": {
      "image/png": "[encoded data removed]",
      "text/plain": [
       "<Figure size 720x360 with 1 Axes>"
      ]
     },
     "metadata": {
      "needs_background": "light"
     },
     "output_type": "display_data"
    }
   ],
   "source": [
    "#plotting distribution of car age\n",
    "plt.figure(figsize= (10,5))\n",
    "sns.histplot(data= ebay, x= \"Alter\", kde= True);"
   ]
  },
  {
   "cell_type": "code",
   "execution_count": 24,
   "id": "d7868e27",
   "metadata": {},
   "outputs": [
    {
     "data": {
      "text/html": [
       "<div>\n",
       "<style scoped>\n",
       "    .dataframe tbody tr th:only-of-type {\n",
       "        vertical-align: middle;\n",
       "    }\n",
       "\n",
       "    .dataframe tbody tr th {\n",
       "        vertical-align: top;\n",
       "    }\n",
       "\n",
       "    .dataframe thead th {\n",
       "        text-align: right;\n",
       "    }\n",
       "</style>\n",
       "<table border=\"1\" class=\"dataframe\">\n",
       "  <thead>\n",
       "    <tr style=\"text-align: right;\">\n",
       "      <th></th>\n",
       "      <th>Marke</th>\n",
       "      <th>Kilometerstand</th>\n",
       "      <th>Kraftstoffart</th>\n",
       "      <th>Leistung</th>\n",
       "      <th>Getriebe</th>\n",
       "      <th>Fahrzeugtyp</th>\n",
       "      <th>Anzahl Türen</th>\n",
       "      <th>Außenfarbe</th>\n",
       "      <th>Material Innenausstattung</th>\n",
       "      <th>Fahrzeugzustand</th>\n",
       "      <th>price</th>\n",
       "      <th>Alter</th>\n",
       "    </tr>\n",
       "  </thead>\n",
       "  <tbody>\n",
       "    <tr>\n",
       "      <th>7646</th>\n",
       "      <td>Ford</td>\n",
       "      <td>123456</td>\n",
       "      <td>Benzin</td>\n",
       "      <td>65</td>\n",
       "      <td>Manuell</td>\n",
       "      <td>Coupé</td>\n",
       "      <td>2/3</td>\n",
       "      <td>Beige</td>\n",
       "      <td>Vollleder</td>\n",
       "      <td>Unbeschädigtes Fahrzeug</td>\n",
       "      <td>39000.0</td>\n",
       "      <td>85</td>\n",
       "    </tr>\n",
       "    <tr>\n",
       "      <th>5377</th>\n",
       "      <td>Opel</td>\n",
       "      <td>53000</td>\n",
       "      <td>Benzin</td>\n",
       "      <td>23</td>\n",
       "      <td>Manuell</td>\n",
       "      <td>Limousine</td>\n",
       "      <td>2/3</td>\n",
       "      <td>Grau</td>\n",
       "      <td>Stoff</td>\n",
       "      <td>Unbeschädigtes Fahrzeug</td>\n",
       "      <td>21500.0</td>\n",
       "      <td>85</td>\n",
       "    </tr>\n",
       "    <tr>\n",
       "      <th>7577</th>\n",
       "      <td>Weitere Automarken</td>\n",
       "      <td>27000</td>\n",
       "      <td>Benzin</td>\n",
       "      <td>54</td>\n",
       "      <td>Manuell</td>\n",
       "      <td>Cabrio</td>\n",
       "      <td>2/3</td>\n",
       "      <td>Beige</td>\n",
       "      <td>Vollleder</td>\n",
       "      <td>Unbeschädigtes Fahrzeug</td>\n",
       "      <td>27750.0</td>\n",
       "      <td>75</td>\n",
       "    </tr>\n",
       "    <tr>\n",
       "      <th>5933</th>\n",
       "      <td>Weitere Automarken</td>\n",
       "      <td>123456</td>\n",
       "      <td>Benzin</td>\n",
       "      <td>72</td>\n",
       "      <td>Manuell</td>\n",
       "      <td>Coupé</td>\n",
       "      <td>2/3</td>\n",
       "      <td>Braun</td>\n",
       "      <td>Vollleder</td>\n",
       "      <td>Unbeschädigtes Fahrzeug</td>\n",
       "      <td>25000.0</td>\n",
       "      <td>74</td>\n",
       "    </tr>\n",
       "    <tr>\n",
       "      <th>7301</th>\n",
       "      <td>Opel</td>\n",
       "      <td>41122</td>\n",
       "      <td>Benzin</td>\n",
       "      <td>39</td>\n",
       "      <td>Manuell</td>\n",
       "      <td>Limousine</td>\n",
       "      <td>2/3</td>\n",
       "      <td>Beige</td>\n",
       "      <td>Stoff</td>\n",
       "      <td>Unbeschädigtes Fahrzeug</td>\n",
       "      <td>34952.0</td>\n",
       "      <td>69</td>\n",
       "    </tr>\n",
       "    <tr>\n",
       "      <th>7333</th>\n",
       "      <td>Weitere Automarken</td>\n",
       "      <td>77777</td>\n",
       "      <td>Benzin</td>\n",
       "      <td>17</td>\n",
       "      <td>Manuell</td>\n",
       "      <td>Limousine</td>\n",
       "      <td>2/3</td>\n",
       "      <td>Beige</td>\n",
       "      <td>Stoff</td>\n",
       "      <td>Unbeschädigtes Fahrzeug</td>\n",
       "      <td>25000.0</td>\n",
       "      <td>67</td>\n",
       "    </tr>\n",
       "    <tr>\n",
       "      <th>7589</th>\n",
       "      <td>Audi</td>\n",
       "      <td>43650</td>\n",
       "      <td>Benzin</td>\n",
       "      <td>38</td>\n",
       "      <td>Manuell</td>\n",
       "      <td>Limousine</td>\n",
       "      <td>2/3</td>\n",
       "      <td>Beige</td>\n",
       "      <td>Vollleder</td>\n",
       "      <td>Unbeschädigtes Fahrzeug</td>\n",
       "      <td>11800.0</td>\n",
       "      <td>65</td>\n",
       "    </tr>\n",
       "    <tr>\n",
       "      <th>7705</th>\n",
       "      <td>Weitere Automarken</td>\n",
       "      <td>123456</td>\n",
       "      <td>Benzin</td>\n",
       "      <td>256</td>\n",
       "      <td>Automatik</td>\n",
       "      <td>Limousine</td>\n",
       "      <td>4/5</td>\n",
       "      <td>Beige</td>\n",
       "      <td>Andere Materialien Innenausstattung</td>\n",
       "      <td>Unbeschädigtes Fahrzeug</td>\n",
       "      <td>20900.0</td>\n",
       "      <td>62</td>\n",
       "    </tr>\n",
       "    <tr>\n",
       "      <th>8030</th>\n",
       "      <td>Weitere Automarken</td>\n",
       "      <td>355</td>\n",
       "      <td>Benzin</td>\n",
       "      <td>65</td>\n",
       "      <td>Manuell</td>\n",
       "      <td>Cabrio</td>\n",
       "      <td>2/3</td>\n",
       "      <td>Gold</td>\n",
       "      <td>Vollleder</td>\n",
       "      <td>Unbeschädigtes Fahrzeug</td>\n",
       "      <td>32950.0</td>\n",
       "      <td>61</td>\n",
       "    </tr>\n",
       "    <tr>\n",
       "      <th>3172</th>\n",
       "      <td>BMW</td>\n",
       "      <td>68000</td>\n",
       "      <td>Benzin</td>\n",
       "      <td>30</td>\n",
       "      <td>Manuell</td>\n",
       "      <td>Limousine</td>\n",
       "      <td>2/3</td>\n",
       "      <td>Weiß</td>\n",
       "      <td>Teilleder</td>\n",
       "      <td>Unbeschädigtes Fahrzeug</td>\n",
       "      <td>12990.0</td>\n",
       "      <td>61</td>\n",
       "    </tr>\n",
       "    <tr>\n",
       "      <th>8203</th>\n",
       "      <td>Weitere Automarken</td>\n",
       "      <td>100000</td>\n",
       "      <td>Benzin</td>\n",
       "      <td>188</td>\n",
       "      <td>Automatik</td>\n",
       "      <td>Limousine</td>\n",
       "      <td>4/5</td>\n",
       "      <td>Gold</td>\n",
       "      <td>Vollleder</td>\n",
       "      <td>Beschädigtes Fahrzeug</td>\n",
       "      <td>9500.0</td>\n",
       "      <td>60</td>\n",
       "    </tr>\n",
       "    <tr>\n",
       "      <th>4858</th>\n",
       "      <td>Renault</td>\n",
       "      <td>28000</td>\n",
       "      <td>Benzin</td>\n",
       "      <td>23</td>\n",
       "      <td>Manuell</td>\n",
       "      <td>Kleinwagen</td>\n",
       "      <td>4/5</td>\n",
       "      <td>Rot</td>\n",
       "      <td>Stoff</td>\n",
       "      <td>Unbeschädigtes Fahrzeug</td>\n",
       "      <td>14900.0</td>\n",
       "      <td>60</td>\n",
       "    </tr>\n",
       "    <tr>\n",
       "      <th>6942</th>\n",
       "      <td>Weitere Automarken</td>\n",
       "      <td>37000</td>\n",
       "      <td>Benzin</td>\n",
       "      <td>40</td>\n",
       "      <td>Manuell</td>\n",
       "      <td>Limousine</td>\n",
       "      <td>4/5</td>\n",
       "      <td>Beige</td>\n",
       "      <td>Stoff</td>\n",
       "      <td>Unbeschädigtes Fahrzeug</td>\n",
       "      <td>21500.0</td>\n",
       "      <td>60</td>\n",
       "    </tr>\n",
       "    <tr>\n",
       "      <th>7623</th>\n",
       "      <td>Weitere Automarken</td>\n",
       "      <td>85000</td>\n",
       "      <td>Benzin</td>\n",
       "      <td>325</td>\n",
       "      <td>Automatik</td>\n",
       "      <td>Cabrio</td>\n",
       "      <td>2/3</td>\n",
       "      <td>Beige</td>\n",
       "      <td>Vollleder</td>\n",
       "      <td>Unbeschädigtes Fahrzeug</td>\n",
       "      <td>29000.0</td>\n",
       "      <td>59</td>\n",
       "    </tr>\n",
       "    <tr>\n",
       "      <th>3163</th>\n",
       "      <td>Mercedes Benz</td>\n",
       "      <td>200000</td>\n",
       "      <td>Benzin</td>\n",
       "      <td>120</td>\n",
       "      <td>Manuell</td>\n",
       "      <td>Coupé</td>\n",
       "      <td>2/3</td>\n",
       "      <td>Weiß</td>\n",
       "      <td>Vollleder</td>\n",
       "      <td>Unbeschädigtes Fahrzeug</td>\n",
       "      <td>25000.0</td>\n",
       "      <td>59</td>\n",
       "    </tr>\n",
       "    <tr>\n",
       "      <th>8550</th>\n",
       "      <td>Weitere Automarken</td>\n",
       "      <td>97000</td>\n",
       "      <td>Benzin</td>\n",
       "      <td>250</td>\n",
       "      <td>Automatik</td>\n",
       "      <td>Coupé</td>\n",
       "      <td>2/3</td>\n",
       "      <td>Gold</td>\n",
       "      <td>Teilleder</td>\n",
       "      <td>Unbeschädigtes Fahrzeug</td>\n",
       "      <td>18500.0</td>\n",
       "      <td>57</td>\n",
       "    </tr>\n",
       "    <tr>\n",
       "      <th>7573</th>\n",
       "      <td>Weitere Automarken</td>\n",
       "      <td>700</td>\n",
       "      <td>Benzin</td>\n",
       "      <td>75</td>\n",
       "      <td>Manuell</td>\n",
       "      <td>Limousine</td>\n",
       "      <td>4/5</td>\n",
       "      <td>Beige</td>\n",
       "      <td>Andere Materialien Innenausstattung</td>\n",
       "      <td>Unbeschädigtes Fahrzeug</td>\n",
       "      <td>37000.0</td>\n",
       "      <td>56</td>\n",
       "    </tr>\n",
       "    <tr>\n",
       "      <th>7624</th>\n",
       "      <td>Fiat</td>\n",
       "      <td>52500</td>\n",
       "      <td>Benzin</td>\n",
       "      <td>18</td>\n",
       "      <td>Manuell</td>\n",
       "      <td>Kleinwagen</td>\n",
       "      <td>2/3</td>\n",
       "      <td>Beige</td>\n",
       "      <td>Andere Materialien Innenausstattung</td>\n",
       "      <td>Unbeschädigtes Fahrzeug</td>\n",
       "      <td>13500.0</td>\n",
       "      <td>56</td>\n",
       "    </tr>\n",
       "    <tr>\n",
       "      <th>3627</th>\n",
       "      <td>Mercedes Benz</td>\n",
       "      <td>169272</td>\n",
       "      <td>Benzin</td>\n",
       "      <td>120</td>\n",
       "      <td>Manuell</td>\n",
       "      <td>Coupé</td>\n",
       "      <td>2/3</td>\n",
       "      <td>Blau</td>\n",
       "      <td>Vollleder</td>\n",
       "      <td>Unbeschädigtes Fahrzeug</td>\n",
       "      <td>58000.0</td>\n",
       "      <td>56</td>\n",
       "    </tr>\n",
       "    <tr>\n",
       "      <th>8503</th>\n",
       "      <td>Chrysler</td>\n",
       "      <td>5500</td>\n",
       "      <td>Benzin</td>\n",
       "      <td>340</td>\n",
       "      <td>Automatik</td>\n",
       "      <td>Coupé</td>\n",
       "      <td>2/3</td>\n",
       "      <td>Gold</td>\n",
       "      <td>Vollleder</td>\n",
       "      <td>Unbeschädigtes Fahrzeug</td>\n",
       "      <td>29900.0</td>\n",
       "      <td>56</td>\n",
       "    </tr>\n",
       "  </tbody>\n",
       "</table>\n",
       "</div>"
      ],
      "text/plain": [
       "                   Marke  Kilometerstand Kraftstoffart  Leistung   Getriebe  \\\n",
       "7646                Ford          123456        Benzin        65    Manuell   \n",
       "5377                Opel           53000        Benzin        23    Manuell   \n",
       "7577  Weitere Automarken           27000        Benzin        54    Manuell   \n",
       "5933  Weitere Automarken          123456        Benzin        72    Manuell   \n",
       "7301                Opel           41122        Benzin        39    Manuell   \n",
       "7333  Weitere Automarken           77777        Benzin        17    Manuell   \n",
       "7589                Audi           43650        Benzin        38    Manuell   \n",
       "7705  Weitere Automarken          123456        Benzin       256  Automatik   \n",
       "8030  Weitere Automarken             355        Benzin        65    Manuell   \n",
       "3172                 BMW           68000        Benzin        30    Manuell   \n",
       "8203  Weitere Automarken          100000        Benzin       188  Automatik   \n",
       "4858             Renault           28000        Benzin        23    Manuell   \n",
       "6942  Weitere Automarken           37000        Benzin        40    Manuell   \n",
       "7623  Weitere Automarken           85000        Benzin       325  Automatik   \n",
       "3163       Mercedes Benz          200000        Benzin       120    Manuell   \n",
       "8550  Weitere Automarken           97000        Benzin       250  Automatik   \n",
       "7573  Weitere Automarken             700        Benzin        75    Manuell   \n",
       "7624                Fiat           52500        Benzin        18    Manuell   \n",
       "3627       Mercedes Benz          169272        Benzin       120    Manuell   \n",
       "8503            Chrysler            5500        Benzin       340  Automatik   \n",
       "\n",
       "     Fahrzeugtyp Anzahl Türen Außenfarbe            Material Innenausstattung  \\\n",
       "7646       Coupé          2/3      Beige                            Vollleder   \n",
       "5377   Limousine          2/3       Grau                                Stoff   \n",
       "7577      Cabrio          2/3      Beige                            Vollleder   \n",
       "5933       Coupé          2/3      Braun                            Vollleder   \n",
       "7301   Limousine          2/3      Beige                                Stoff   \n",
       "7333   Limousine          2/3      Beige                                Stoff   \n",
       "7589   Limousine          2/3      Beige                            Vollleder   \n",
       "7705   Limousine          4/5      Beige  Andere Materialien Innenausstattung   \n",
       "8030      Cabrio          2/3       Gold                            Vollleder   \n",
       "3172   Limousine          2/3       Weiß                            Teilleder   \n",
       "8203   Limousine          4/5       Gold                            Vollleder   \n",
       "4858  Kleinwagen          4/5        Rot                                Stoff   \n",
       "6942   Limousine          4/5      Beige                                Stoff   \n",
       "7623      Cabrio          2/3      Beige                            Vollleder   \n",
       "3163       Coupé          2/3       Weiß                            Vollleder   \n",
       "8550       Coupé          2/3       Gold                            Teilleder   \n",
       "7573   Limousine          4/5      Beige  Andere Materialien Innenausstattung   \n",
       "7624  Kleinwagen          2/3      Beige  Andere Materialien Innenausstattung   \n",
       "3627       Coupé          2/3       Blau                            Vollleder   \n",
       "8503       Coupé          2/3       Gold                            Vollleder   \n",
       "\n",
       "              Fahrzeugzustand    price  Alter  \n",
       "7646  Unbeschädigtes Fahrzeug  39000.0     85  \n",
       "5377  Unbeschädigtes Fahrzeug  21500.0     85  \n",
       "7577  Unbeschädigtes Fahrzeug  27750.0     75  \n",
       "5933  Unbeschädigtes Fahrzeug  25000.0     74  \n",
       "7301  Unbeschädigtes Fahrzeug  34952.0     69  \n",
       "7333  Unbeschädigtes Fahrzeug  25000.0     67  \n",
       "7589  Unbeschädigtes Fahrzeug  11800.0     65  \n",
       "7705  Unbeschädigtes Fahrzeug  20900.0     62  \n",
       "8030  Unbeschädigtes Fahrzeug  32950.0     61  \n",
       "3172  Unbeschädigtes Fahrzeug  12990.0     61  \n",
       "8203    Beschädigtes Fahrzeug   9500.0     60  \n",
       "4858  Unbeschädigtes Fahrzeug  14900.0     60  \n",
       "6942  Unbeschädigtes Fahrzeug  21500.0     60  \n",
       "7623  Unbeschädigtes Fahrzeug  29000.0     59  \n",
       "3163  Unbeschädigtes Fahrzeug  25000.0     59  \n",
       "8550  Unbeschädigtes Fahrzeug  18500.0     57  \n",
       "7573  Unbeschädigtes Fahrzeug  37000.0     56  \n",
       "7624  Unbeschädigtes Fahrzeug  13500.0     56  \n",
       "3627  Unbeschädigtes Fahrzeug  58000.0     56  \n",
       "8503  Unbeschädigtes Fahrzeug  29900.0     56  "
      ]
     },
     "execution_count": 24,
     "metadata": {},
     "output_type": "execute_result"
    }
   ],
   "source": [
    "ebay.sort_values(by= \"Alter\", ascending= False).head(20)"
   ]
  },
  {
   "cell_type": "markdown",
   "id": "b0d9d075",
   "metadata": {},
   "source": [
    "### Marke"
   ]
  },
  {
   "cell_type": "code",
   "execution_count": 25,
   "id": "3775fb09",
   "metadata": {},
   "outputs": [
    {
     "data": {
      "image/png": "[encoded data removed]",
      "text/plain": [
       "<Figure size 720x360 with 1 Axes>"
      ]
     },
     "metadata": {
      "needs_background": "light"
     },
     "output_type": "display_data"
    }
   ],
   "source": [
    "#plotting value counts for car brands\n",
    "plt.figure(figsize= (10,5))\n",
    "ebay.Marke.value_counts().plot(kind= \"bar\")\n",
    "plt.xticks(rotation= 90);"
   ]
  },
  {
   "cell_type": "markdown",
   "id": "8289677f",
   "metadata": {},
   "source": [
    "### Kraftstoffart"
   ]
  },
  {
   "cell_type": "code",
   "execution_count": 26,
   "id": "cc207544",
   "metadata": {},
   "outputs": [
    {
     "data": {
      "text/plain": [
       "array(['Benzin', 'Diesel', 'Elektro', 'Autogas (LPG)', 'Hybrid',\n",
       "       'Andere Kraftstoffarten', 'Erdgas (CNG)'], dtype=object)"
      ]
     },
     "execution_count": 26,
     "metadata": {},
     "output_type": "execute_result"
    }
   ],
   "source": [
    "ebay.Kraftstoffart.unique()"
   ]
  },
  {
   "cell_type": "markdown",
   "id": "060c7930",
   "metadata": {},
   "source": [
    "### Fahrzeugzustand"
   ]
  },
  {
   "cell_type": "markdown",
   "id": "ef4ad0b7",
   "metadata": {},
   "source": [
    "1. unbeschädigtes Fahrzeug: 0\n",
    "2. beschädigtes Fahrzeug: 1"
   ]
  },
  {
   "cell_type": "code",
   "execution_count": 27,
   "id": "653951b3",
   "metadata": {},
   "outputs": [],
   "source": [
    "ebay[\"Fahrzeugzustand\"] = ebay[\"Fahrzeugzustand\"].map({\n",
    "    \"Unbeschädigtes Fahrzeug\": 0,\n",
    "    \"Beschädigtes Fahrzeug\": 1\n",
    "})"
   ]
  },
  {
   "cell_type": "markdown",
   "id": "fc6ed84f",
   "metadata": {},
   "source": [
    "### Kraftstoffart"
   ]
  },
  {
   "cell_type": "code",
   "execution_count": 28,
   "id": "7aaa53f1",
   "metadata": {},
   "outputs": [
    {
     "data": {
      "text/plain": [
       "array(['Benzin', 'Diesel', 'Elektro', 'Autogas (LPG)', 'Hybrid',\n",
       "       'Andere Kraftstoffarten', 'Erdgas (CNG)'], dtype=object)"
      ]
     },
     "execution_count": 28,
     "metadata": {},
     "output_type": "execute_result"
    }
   ],
   "source": [
    "ebay.Kraftstoffart.unique()"
   ]
  },
  {
   "cell_type": "markdown",
   "id": "5c35db04",
   "metadata": {},
   "source": [
    "### Getriebe"
   ]
  },
  {
   "cell_type": "code",
   "execution_count": 29,
   "id": "d3892e1b",
   "metadata": {},
   "outputs": [
    {
     "data": {
      "text/plain": [
       "Manuell      5545\n",
       "Automatik    3200\n",
       "Name: Getriebe, dtype: int64"
      ]
     },
     "execution_count": 29,
     "metadata": {},
     "output_type": "execute_result"
    }
   ],
   "source": [
    "ebay.Getriebe.value_counts()"
   ]
  },
  {
   "cell_type": "code",
   "execution_count": 30,
   "id": "2e833ef3",
   "metadata": {},
   "outputs": [],
   "source": [
    "ebay.Getriebe = ebay.Getriebe.map({\n",
    "    \"Manuell\": 1,\n",
    "    \"Automatik\": 0\n",
    "})"
   ]
  },
  {
   "cell_type": "markdown",
   "id": "2e41a4e8",
   "metadata": {},
   "source": [
    "### Fahrzeugtyp"
   ]
  },
  {
   "cell_type": "code",
   "execution_count": 31,
   "id": "092c1d35",
   "metadata": {},
   "outputs": [
    {
     "data": {
      "text/plain": [
       "Limousine               2506\n",
       "Kombi                   1654\n",
       "Kleinwagen              1526\n",
       "SUV/Geländewagen        1040\n",
       "Van/Bus                 1037\n",
       "Coupé                    461\n",
       "Cabrio                   439\n",
       "Andere Fahrzeugtypen      82\n",
       "Name: Fahrzeugtyp, dtype: int64"
      ]
     },
     "execution_count": 31,
     "metadata": {},
     "output_type": "execute_result"
    }
   ],
   "source": [
    "ebay.Fahrzeugtyp.value_counts()"
   ]
  },
  {
   "cell_type": "markdown",
   "id": "7aab95b1",
   "metadata": {},
   "source": [
    "## Correlations"
   ]
  },
  {
   "cell_type": "code",
   "execution_count": 32,
   "id": "f4af56a9",
   "metadata": {},
   "outputs": [
    {
     "data": {
      "text/plain": [
       "<AxesSubplot:>"
      ]
     },
     "execution_count": 32,
     "metadata": {},
     "output_type": "execute_result"
    },
    {
     "data": {
      "image/png": "[encoded data removed]",
      "text/plain": [
       "<Figure size 1440x720 with 2 Axes>"
      ]
     },
     "metadata": {
      "needs_background": "light"
     },
     "output_type": "display_data"
    }
   ],
   "source": [
    "plt.figure(figsize= (20,10))\n",
    "sns.heatmap(ebay.select_dtypes(exclude= \"object\").corr(), annot= True)"
   ]
  },
  {
   "cell_type": "markdown",
   "id": "d6bfe572",
   "metadata": {},
   "source": [
    "## Statsmodel Linear Regression"
   ]
  },
  {
   "cell_type": "code",
   "execution_count": 33,
   "id": "c34c0eed",
   "metadata": {},
   "outputs": [],
   "source": [
    "import statsmodels.formula.api as smf\n",
    "\n",
    "mod = smf.ols(formula='price ~ Kilometerstand + Leistung + Alter + Fahrzeugzustand', data=ebay).fit()"
   ]
  },
  {
   "cell_type": "code",
   "execution_count": 34,
   "id": "5b0af7ab",
   "metadata": {},
   "outputs": [
    {
     "data": {
      "text/html": [
       "<table class=\"simpletable\">\n",
       "<caption>OLS Regression Results</caption>\n",
       "<tr>\n",
       "  <th>Dep. Variable:</th>          <td>price</td>      <th>  R-squared:         </th> <td>   0.560</td> \n",
       "</tr>\n",
       "<tr>\n",
       "  <th>Model:</th>                   <td>OLS</td>       <th>  Adj. R-squared:    </th> <td>   0.559</td> \n",
       "</tr>\n",
       "<tr>\n",
       "  <th>Method:</th>             <td>Least Squares</td>  <th>  F-statistic:       </th> <td>   2753.</td> \n",
       "</tr>\n",
       "<tr>\n",
       "  <th>Date:</th>             <td>Fri, 29 Oct 2021</td> <th>  Prob (F-statistic):</th>  <td>  0.00</td>  \n",
       "</tr>\n",
       "<tr>\n",
       "  <th>Time:</th>                 <td>10:44:18</td>     <th>  Log-Likelihood:    </th> <td> -89837.</td> \n",
       "</tr>\n",
       "<tr>\n",
       "  <th>No. Observations:</th>      <td>  8672</td>      <th>  AIC:               </th> <td>1.797e+05</td>\n",
       "</tr>\n",
       "<tr>\n",
       "  <th>Df Residuals:</th>          <td>  8667</td>      <th>  BIC:               </th> <td>1.797e+05</td>\n",
       "</tr>\n",
       "<tr>\n",
       "  <th>Df Model:</th>              <td>     4</td>      <th>                     </th>     <td> </td>    \n",
       "</tr>\n",
       "<tr>\n",
       "  <th>Covariance Type:</th>      <td>nonrobust</td>    <th>                     </th>     <td> </td>    \n",
       "</tr>\n",
       "</table>\n",
       "<table class=\"simpletable\">\n",
       "<tr>\n",
       "         <td></td>            <th>coef</th>     <th>std err</th>      <th>t</th>      <th>P>|t|</th>  <th>[0.025</th>    <th>0.975]</th>  \n",
       "</tr>\n",
       "<tr>\n",
       "  <th>Intercept</th>       <td> 6316.0745</td> <td>  239.005</td> <td>   26.427</td> <td> 0.000</td> <td> 5847.568</td> <td> 6784.581</td>\n",
       "</tr>\n",
       "<tr>\n",
       "  <th>Kilometerstand</th>  <td>   -0.0537</td> <td>    0.001</td> <td>  -49.020</td> <td> 0.000</td> <td>   -0.056</td> <td>   -0.052</td>\n",
       "</tr>\n",
       "<tr>\n",
       "  <th>Leistung</th>        <td>   95.8814</td> <td>    1.132</td> <td>   84.678</td> <td> 0.000</td> <td>   93.662</td> <td>   98.101</td>\n",
       "</tr>\n",
       "<tr>\n",
       "  <th>Alter</th>           <td> -137.7201</td> <td>   10.260</td> <td>  -13.423</td> <td> 0.000</td> <td> -157.832</td> <td> -117.608</td>\n",
       "</tr>\n",
       "<tr>\n",
       "  <th>Fahrzeugzustand</th> <td>-2783.3041</td> <td>  326.779</td> <td>   -8.517</td> <td> 0.000</td> <td>-3423.869</td> <td>-2142.739</td>\n",
       "</tr>\n",
       "</table>\n",
       "<table class=\"simpletable\">\n",
       "<tr>\n",
       "  <th>Omnibus:</th>       <td>8679.941</td> <th>  Durbin-Watson:     </th>  <td>   1.877</td>  \n",
       "</tr>\n",
       "<tr>\n",
       "  <th>Prob(Omnibus):</th>  <td> 0.000</td>  <th>  Jarque-Bera (JB):  </th> <td>1520491.745</td>\n",
       "</tr>\n",
       "<tr>\n",
       "  <th>Skew:</th>           <td> 4.491</td>  <th>  Prob(JB):          </th>  <td>    0.00</td>  \n",
       "</tr>\n",
       "<tr>\n",
       "  <th>Kurtosis:</th>       <td>67.244</td>  <th>  Cond. No.          </th>  <td>6.26e+05</td>  \n",
       "</tr>\n",
       "</table><br/><br/>Notes:<br/>[1] Standard Errors assume that the covariance matrix of the errors is correctly specified.<br/>[2] The condition number is large, 6.26e+05. This might indicate that there are<br/>strong multicollinearity or other numerical problems."
      ],
      "text/plain": [
       "<class 'statsmodels.iolib.summary.Summary'>\n",
       "\"\"\"\n",
       "                            OLS Regression Results                            \n",
       "==============================================================================\n",
       "Dep. Variable:                  price   R-squared:                       0.560\n",
       "Model:                            OLS   Adj. R-squared:                  0.559\n",
       "Method:                 Least Squares   F-statistic:                     2753.\n",
       "Date:                Fri, 29 Oct 2021   Prob (F-statistic):               0.00\n",
       "Time:                        10:44:18   Log-Likelihood:                -89837.\n",
       "No. Observations:                8672   AIC:                         1.797e+05\n",
       "Df Residuals:                    8667   BIC:                         1.797e+05\n",
       "Df Model:                           4                                         \n",
       "Covariance Type:            nonrobust                                         \n",
       "===================================================================================\n",
       "                      coef    std err          t      P>|t|      [0.025      0.975]\n",
       "-----------------------------------------------------------------------------------\n",
       "Intercept        6316.0745    239.005     26.427      0.000    5847.568    6784.581\n",
       "Kilometerstand     -0.0537      0.001    -49.020      0.000      -0.056      -0.052\n",
       "Leistung           95.8814      1.132     84.678      0.000      93.662      98.101\n",
       "Alter            -137.7201     10.260    -13.423      0.000    -157.832    -117.608\n",
       "Fahrzeugzustand -2783.3041    326.779     -8.517      0.000   -3423.869   -2142.739\n",
       "==============================================================================\n",
       "Omnibus:                     8679.941   Durbin-Watson:                   1.877\n",
       "Prob(Omnibus):                  0.000   Jarque-Bera (JB):          1520491.745\n",
       "Skew:                           4.491   Prob(JB):                         0.00\n",
       "Kurtosis:                      67.244   Cond. No.                     6.26e+05\n",
       "==============================================================================\n",
       "\n",
       "Notes:\n",
       "[1] Standard Errors assume that the covariance matrix of the errors is correctly specified.\n",
       "[2] The condition number is large, 6.26e+05. This might indicate that there are\n",
       "strong multicollinearity or other numerical problems.\n",
       "\"\"\""
      ]
     },
     "execution_count": 34,
     "metadata": {},
     "output_type": "execute_result"
    }
   ],
   "source": [
    "mod.summary()"
   ]
  },
  {
   "cell_type": "markdown",
   "id": "c7bab610",
   "metadata": {},
   "source": [
    "# Prepare ML Dataframe"
   ]
  },
  {
   "cell_type": "code",
   "execution_count": 35,
   "id": "f5da8d77",
   "metadata": {},
   "outputs": [
    {
     "data": {
      "text/html": [
       "<div>\n",
       "<style scoped>\n",
       "    .dataframe tbody tr th:only-of-type {\n",
       "        vertical-align: middle;\n",
       "    }\n",
       "\n",
       "    .dataframe tbody tr th {\n",
       "        vertical-align: top;\n",
       "    }\n",
       "\n",
       "    .dataframe thead th {\n",
       "        text-align: right;\n",
       "    }\n",
       "</style>\n",
       "<table border=\"1\" class=\"dataframe\">\n",
       "  <thead>\n",
       "    <tr style=\"text-align: right;\">\n",
       "      <th></th>\n",
       "      <th>Marke</th>\n",
       "      <th>Kilometerstand</th>\n",
       "      <th>Kraftstoffart</th>\n",
       "      <th>Leistung</th>\n",
       "      <th>Getriebe</th>\n",
       "      <th>Fahrzeugtyp</th>\n",
       "      <th>Anzahl Türen</th>\n",
       "      <th>Außenfarbe</th>\n",
       "      <th>Material Innenausstattung</th>\n",
       "      <th>Fahrzeugzustand</th>\n",
       "      <th>price</th>\n",
       "      <th>Alter</th>\n",
       "    </tr>\n",
       "  </thead>\n",
       "  <tbody>\n",
       "    <tr>\n",
       "      <th>0</th>\n",
       "      <td>Ford</td>\n",
       "      <td>69800</td>\n",
       "      <td>Benzin</td>\n",
       "      <td>530</td>\n",
       "      <td>0</td>\n",
       "      <td>SUV/Geländewagen</td>\n",
       "      <td>4/5</td>\n",
       "      <td>Schwarz</td>\n",
       "      <td>Vollleder</td>\n",
       "      <td>0</td>\n",
       "      <td>67900.0</td>\n",
       "      <td>3</td>\n",
       "    </tr>\n",
       "    <tr>\n",
       "      <th>1</th>\n",
       "      <td>BMW</td>\n",
       "      <td>227000</td>\n",
       "      <td>Benzin</td>\n",
       "      <td>116</td>\n",
       "      <td>1</td>\n",
       "      <td>Kombi</td>\n",
       "      <td>4/5</td>\n",
       "      <td>Schwarz</td>\n",
       "      <td>Stoff</td>\n",
       "      <td>0</td>\n",
       "      <td>1500.0</td>\n",
       "      <td>19</td>\n",
       "    </tr>\n",
       "    <tr>\n",
       "      <th>2</th>\n",
       "      <td>Opel</td>\n",
       "      <td>12076</td>\n",
       "      <td>Diesel</td>\n",
       "      <td>170</td>\n",
       "      <td>0</td>\n",
       "      <td>Kombi</td>\n",
       "      <td>4/5</td>\n",
       "      <td>Schwarz</td>\n",
       "      <td>Stoff</td>\n",
       "      <td>0</td>\n",
       "      <td>22700.0</td>\n",
       "      <td>1</td>\n",
       "    </tr>\n",
       "    <tr>\n",
       "      <th>3</th>\n",
       "      <td>Audi</td>\n",
       "      <td>143000</td>\n",
       "      <td>Benzin</td>\n",
       "      <td>102</td>\n",
       "      <td>1</td>\n",
       "      <td>Limousine</td>\n",
       "      <td>2/3</td>\n",
       "      <td>Schwarz</td>\n",
       "      <td>Stoff</td>\n",
       "      <td>0</td>\n",
       "      <td>3900.0</td>\n",
       "      <td>14</td>\n",
       "    </tr>\n",
       "    <tr>\n",
       "      <th>4</th>\n",
       "      <td>Smart</td>\n",
       "      <td>26905</td>\n",
       "      <td>Benzin</td>\n",
       "      <td>71</td>\n",
       "      <td>0</td>\n",
       "      <td>Limousine</td>\n",
       "      <td>4/5</td>\n",
       "      <td>Schwarz</td>\n",
       "      <td>Stoff</td>\n",
       "      <td>0</td>\n",
       "      <td>9979.0</td>\n",
       "      <td>4</td>\n",
       "    </tr>\n",
       "  </tbody>\n",
       "</table>\n",
       "</div>"
      ],
      "text/plain": [
       "   Marke  Kilometerstand Kraftstoffart  Leistung  Getriebe       Fahrzeugtyp  \\\n",
       "0   Ford           69800        Benzin       530         0  SUV/Geländewagen   \n",
       "1    BMW          227000        Benzin       116         1             Kombi   \n",
       "2   Opel           12076        Diesel       170         0             Kombi   \n",
       "3   Audi          143000        Benzin       102         1         Limousine   \n",
       "4  Smart           26905        Benzin        71         0         Limousine   \n",
       "\n",
       "  Anzahl Türen Außenfarbe Material Innenausstattung  Fahrzeugzustand    price  \\\n",
       "0          4/5    Schwarz                 Vollleder                0  67900.0   \n",
       "1          4/5    Schwarz                     Stoff                0   1500.0   \n",
       "2          4/5    Schwarz                     Stoff                0  22700.0   \n",
       "3          2/3    Schwarz                     Stoff                0   3900.0   \n",
       "4          4/5    Schwarz                     Stoff                0   9979.0   \n",
       "\n",
       "   Alter  \n",
       "0      3  \n",
       "1     19  \n",
       "2      1  \n",
       "3     14  \n",
       "4      4  "
      ]
     },
     "execution_count": 35,
     "metadata": {},
     "output_type": "execute_result"
    }
   ],
   "source": [
    "ebay.head()"
   ]
  },
  {
   "cell_type": "markdown",
   "id": "54a4b326",
   "metadata": {},
   "source": [
    "### Get OneHotEncoded categorical features"
   ]
  },
  {
   "cell_type": "code",
   "execution_count": 36,
   "id": "3c31c4a9",
   "metadata": {},
   "outputs": [
    {
     "data": {
      "text/html": [
       "<div>\n",
       "<style scoped>\n",
       "    .dataframe tbody tr th:only-of-type {\n",
       "        vertical-align: middle;\n",
       "    }\n",
       "\n",
       "    .dataframe tbody tr th {\n",
       "        vertical-align: top;\n",
       "    }\n",
       "\n",
       "    .dataframe thead th {\n",
       "        text-align: right;\n",
       "    }\n",
       "</style>\n",
       "<table border=\"1\" class=\"dataframe\">\n",
       "  <thead>\n",
       "    <tr style=\"text-align: right;\">\n",
       "      <th></th>\n",
       "      <th>Marke</th>\n",
       "      <th>Kilometerstand</th>\n",
       "      <th>Leistung</th>\n",
       "      <th>Getriebe</th>\n",
       "      <th>Fahrzeugtyp</th>\n",
       "      <th>Fahrzeugzustand</th>\n",
       "      <th>price</th>\n",
       "      <th>Alter</th>\n",
       "    </tr>\n",
       "  </thead>\n",
       "  <tbody>\n",
       "    <tr>\n",
       "      <th>0</th>\n",
       "      <td>Ford</td>\n",
       "      <td>69800</td>\n",
       "      <td>530</td>\n",
       "      <td>0</td>\n",
       "      <td>SUV/Geländewagen</td>\n",
       "      <td>0</td>\n",
       "      <td>67900.0</td>\n",
       "      <td>3</td>\n",
       "    </tr>\n",
       "    <tr>\n",
       "      <th>1</th>\n",
       "      <td>BMW</td>\n",
       "      <td>227000</td>\n",
       "      <td>116</td>\n",
       "      <td>1</td>\n",
       "      <td>Kombi</td>\n",
       "      <td>0</td>\n",
       "      <td>1500.0</td>\n",
       "      <td>19</td>\n",
       "    </tr>\n",
       "    <tr>\n",
       "      <th>2</th>\n",
       "      <td>Opel</td>\n",
       "      <td>12076</td>\n",
       "      <td>170</td>\n",
       "      <td>0</td>\n",
       "      <td>Kombi</td>\n",
       "      <td>0</td>\n",
       "      <td>22700.0</td>\n",
       "      <td>1</td>\n",
       "    </tr>\n",
       "    <tr>\n",
       "      <th>3</th>\n",
       "      <td>Audi</td>\n",
       "      <td>143000</td>\n",
       "      <td>102</td>\n",
       "      <td>1</td>\n",
       "      <td>Limousine</td>\n",
       "      <td>0</td>\n",
       "      <td>3900.0</td>\n",
       "      <td>14</td>\n",
       "    </tr>\n",
       "    <tr>\n",
       "      <th>4</th>\n",
       "      <td>Smart</td>\n",
       "      <td>26905</td>\n",
       "      <td>71</td>\n",
       "      <td>0</td>\n",
       "      <td>Limousine</td>\n",
       "      <td>0</td>\n",
       "      <td>9979.0</td>\n",
       "      <td>4</td>\n",
       "    </tr>\n",
       "  </tbody>\n",
       "</table>\n",
       "</div>"
      ],
      "text/plain": [
       "   Marke  Kilometerstand  Leistung  Getriebe       Fahrzeugtyp  \\\n",
       "0   Ford           69800       530         0  SUV/Geländewagen   \n",
       "1    BMW          227000       116         1             Kombi   \n",
       "2   Opel           12076       170         0             Kombi   \n",
       "3   Audi          143000       102         1         Limousine   \n",
       "4  Smart           26905        71         0         Limousine   \n",
       "\n",
       "   Fahrzeugzustand    price  Alter  \n",
       "0                0  67900.0      3  \n",
       "1                0   1500.0     19  \n",
       "2                0  22700.0      1  \n",
       "3                0   3900.0     14  \n",
       "4                0   9979.0      4  "
      ]
     },
     "execution_count": 36,
     "metadata": {},
     "output_type": "execute_result"
    }
   ],
   "source": [
    "df = ebay.drop(columns= [\n",
    "    \"Kraftstoffart\",\n",
    "    \"Anzahl Türen\",\n",
    "    \"Außenfarbe\",\n",
    "    \"Material Innenausstattung\"\n",
    "])\n",
    "\n",
    "df.head()"
   ]
  },
  {
   "cell_type": "code",
   "execution_count": 37,
   "id": "2edf7764",
   "metadata": {},
   "outputs": [
    {
     "data": {
      "text/html": [
       "<div>\n",
       "<style scoped>\n",
       "    .dataframe tbody tr th:only-of-type {\n",
       "        vertical-align: middle;\n",
       "    }\n",
       "\n",
       "    .dataframe tbody tr th {\n",
       "        vertical-align: top;\n",
       "    }\n",
       "\n",
       "    .dataframe thead th {\n",
       "        text-align: right;\n",
       "    }\n",
       "</style>\n",
       "<table border=\"1\" class=\"dataframe\">\n",
       "  <thead>\n",
       "    <tr style=\"text-align: right;\">\n",
       "      <th></th>\n",
       "      <th>Kilometerstand</th>\n",
       "      <th>Leistung</th>\n",
       "      <th>Getriebe</th>\n",
       "      <th>Fahrzeugzustand</th>\n",
       "      <th>price</th>\n",
       "      <th>Alter</th>\n",
       "      <th>Marke_Audi</th>\n",
       "      <th>Marke_BMW</th>\n",
       "      <th>Marke_Chevrolet</th>\n",
       "      <th>Marke_Chrysler</th>\n",
       "      <th>...</th>\n",
       "      <th>Marke_Volkswagen</th>\n",
       "      <th>Marke_Volvo</th>\n",
       "      <th>Marke_Weitere Automarken</th>\n",
       "      <th>Fahrzeugtyp_Cabrio</th>\n",
       "      <th>Fahrzeugtyp_Coupé</th>\n",
       "      <th>Fahrzeugtyp_Kleinwagen</th>\n",
       "      <th>Fahrzeugtyp_Kombi</th>\n",
       "      <th>Fahrzeugtyp_Limousine</th>\n",
       "      <th>Fahrzeugtyp_SUV/Geländewagen</th>\n",
       "      <th>Fahrzeugtyp_Van/Bus</th>\n",
       "    </tr>\n",
       "  </thead>\n",
       "  <tbody>\n",
       "    <tr>\n",
       "      <th>0</th>\n",
       "      <td>69800</td>\n",
       "      <td>530</td>\n",
       "      <td>0</td>\n",
       "      <td>0</td>\n",
       "      <td>67900.0</td>\n",
       "      <td>3</td>\n",
       "      <td>0</td>\n",
       "      <td>0</td>\n",
       "      <td>0</td>\n",
       "      <td>0</td>\n",
       "      <td>...</td>\n",
       "      <td>0</td>\n",
       "      <td>0</td>\n",
       "      <td>0</td>\n",
       "      <td>0</td>\n",
       "      <td>0</td>\n",
       "      <td>0</td>\n",
       "      <td>0</td>\n",
       "      <td>0</td>\n",
       "      <td>1</td>\n",
       "      <td>0</td>\n",
       "    </tr>\n",
       "    <tr>\n",
       "      <th>1</th>\n",
       "      <td>227000</td>\n",
       "      <td>116</td>\n",
       "      <td>1</td>\n",
       "      <td>0</td>\n",
       "      <td>1500.0</td>\n",
       "      <td>19</td>\n",
       "      <td>0</td>\n",
       "      <td>1</td>\n",
       "      <td>0</td>\n",
       "      <td>0</td>\n",
       "      <td>...</td>\n",
       "      <td>0</td>\n",
       "      <td>0</td>\n",
       "      <td>0</td>\n",
       "      <td>0</td>\n",
       "      <td>0</td>\n",
       "      <td>0</td>\n",
       "      <td>1</td>\n",
       "      <td>0</td>\n",
       "      <td>0</td>\n",
       "      <td>0</td>\n",
       "    </tr>\n",
       "    <tr>\n",
       "      <th>2</th>\n",
       "      <td>12076</td>\n",
       "      <td>170</td>\n",
       "      <td>0</td>\n",
       "      <td>0</td>\n",
       "      <td>22700.0</td>\n",
       "      <td>1</td>\n",
       "      <td>0</td>\n",
       "      <td>0</td>\n",
       "      <td>0</td>\n",
       "      <td>0</td>\n",
       "      <td>...</td>\n",
       "      <td>0</td>\n",
       "      <td>0</td>\n",
       "      <td>0</td>\n",
       "      <td>0</td>\n",
       "      <td>0</td>\n",
       "      <td>0</td>\n",
       "      <td>1</td>\n",
       "      <td>0</td>\n",
       "      <td>0</td>\n",
       "      <td>0</td>\n",
       "    </tr>\n",
       "    <tr>\n",
       "      <th>3</th>\n",
       "      <td>143000</td>\n",
       "      <td>102</td>\n",
       "      <td>1</td>\n",
       "      <td>0</td>\n",
       "      <td>3900.0</td>\n",
       "      <td>14</td>\n",
       "      <td>1</td>\n",
       "      <td>0</td>\n",
       "      <td>0</td>\n",
       "      <td>0</td>\n",
       "      <td>...</td>\n",
       "      <td>0</td>\n",
       "      <td>0</td>\n",
       "      <td>0</td>\n",
       "      <td>0</td>\n",
       "      <td>0</td>\n",
       "      <td>0</td>\n",
       "      <td>0</td>\n",
       "      <td>1</td>\n",
       "      <td>0</td>\n",
       "      <td>0</td>\n",
       "    </tr>\n",
       "    <tr>\n",
       "      <th>4</th>\n",
       "      <td>26905</td>\n",
       "      <td>71</td>\n",
       "      <td>0</td>\n",
       "      <td>0</td>\n",
       "      <td>9979.0</td>\n",
       "      <td>4</td>\n",
       "      <td>0</td>\n",
       "      <td>0</td>\n",
       "      <td>0</td>\n",
       "      <td>0</td>\n",
       "      <td>...</td>\n",
       "      <td>0</td>\n",
       "      <td>0</td>\n",
       "      <td>0</td>\n",
       "      <td>0</td>\n",
       "      <td>0</td>\n",
       "      <td>0</td>\n",
       "      <td>0</td>\n",
       "      <td>1</td>\n",
       "      <td>0</td>\n",
       "      <td>0</td>\n",
       "    </tr>\n",
       "  </tbody>\n",
       "</table>\n",
       "<p>5 rows × 54 columns</p>\n",
       "</div>"
      ],
      "text/plain": [
       "   Kilometerstand  Leistung  Getriebe  Fahrzeugzustand    price  Alter  \\\n",
       "0           69800       530         0                0  67900.0      3   \n",
       "1          227000       116         1                0   1500.0     19   \n",
       "2           12076       170         0                0  22700.0      1   \n",
       "3          143000       102         1                0   3900.0     14   \n",
       "4           26905        71         0                0   9979.0      4   \n",
       "\n",
       "   Marke_Audi  Marke_BMW  Marke_Chevrolet  Marke_Chrysler  ...  \\\n",
       "0           0          0                0               0  ...   \n",
       "1           0          1                0               0  ...   \n",
       "2           0          0                0               0  ...   \n",
       "3           1          0                0               0  ...   \n",
       "4           0          0                0               0  ...   \n",
       "\n",
       "   Marke_Volkswagen  Marke_Volvo  Marke_Weitere Automarken  \\\n",
       "0                 0            0                         0   \n",
       "1                 0            0                         0   \n",
       "2                 0            0                         0   \n",
       "3                 0            0                         0   \n",
       "4                 0            0                         0   \n",
       "\n",
       "   Fahrzeugtyp_Cabrio  Fahrzeugtyp_Coupé  Fahrzeugtyp_Kleinwagen  \\\n",
       "0                   0                  0                       0   \n",
       "1                   0                  0                       0   \n",
       "2                   0                  0                       0   \n",
       "3                   0                  0                       0   \n",
       "4                   0                  0                       0   \n",
       "\n",
       "   Fahrzeugtyp_Kombi  Fahrzeugtyp_Limousine  Fahrzeugtyp_SUV/Geländewagen  \\\n",
       "0                  0                      0                             1   \n",
       "1                  1                      0                             0   \n",
       "2                  1                      0                             0   \n",
       "3                  0                      1                             0   \n",
       "4                  0                      1                             0   \n",
       "\n",
       "   Fahrzeugtyp_Van/Bus  \n",
       "0                    0  \n",
       "1                    0  \n",
       "2                    0  \n",
       "3                    0  \n",
       "4                    0  \n",
       "\n",
       "[5 rows x 54 columns]"
      ]
     },
     "execution_count": 37,
     "metadata": {},
     "output_type": "execute_result"
    }
   ],
   "source": [
    "features = ebay[[\"Marke\", \"Fahrzeugtyp\"]]\n",
    "\n",
    "one_hot = pd.get_dummies(data=features, drop_first=True)\n",
    "\n",
    "df.drop(columns= [\"Marke\", \"Fahrzeugtyp\"], inplace= True)\n",
    "\n",
    "df = df.join(one_hot)\n",
    "\n",
    "df.head()"
   ]
  },
  {
   "cell_type": "markdown",
   "id": "42ff89ba",
   "metadata": {},
   "source": [
    "### Standardize features"
   ]
  },
  {
   "cell_type": "code",
   "execution_count": 38,
   "id": "b75e8e1c",
   "metadata": {},
   "outputs": [
    {
     "data": {
      "image/png": "[encoded data removed]",
      "text/plain": [
       "<Figure size 432x288 with 1 Axes>"
      ]
     },
     "metadata": {
      "needs_background": "light"
     },
     "output_type": "display_data"
    },
    {
     "data": {
      "image/png": "[encoded data removed]",
      "text/plain": [
       "<Figure size 432x288 with 1 Axes>"
      ]
     },
     "metadata": {
      "needs_background": "light"
     },
     "output_type": "display_data"
    },
    {
     "data": {
      "image/png": "[encoded data removed]",
      "text/plain": [
       "<Figure size 432x288 with 1 Axes>"
      ]
     },
     "metadata": {
      "needs_background": "light"
     },
     "output_type": "display_data"
    }
   ],
   "source": [
    "features= [\"Kilometerstand\", \"Leistung\", \"Alter\"]\n",
    "\n",
    "for i in features:\n",
    "    plt.boxplot(df[i])\n",
    "    plt.title(i)\n",
    "    plt.show();"
   ]
  },
  {
   "cell_type": "code",
   "execution_count": 39,
   "id": "6bebe09d",
   "metadata": {},
   "outputs": [
    {
     "data": {
      "image/png": "[encoded data removed]",
      "text/plain": [
       "<Figure size 432x288 with 1 Axes>"
      ]
     },
     "metadata": {
      "needs_background": "light"
     },
     "output_type": "display_data"
    },
    {
     "data": {
      "image/png": "[encoded data removed]",
      "text/plain": [
       "<Figure size 432x288 with 1 Axes>"
      ]
     },
     "metadata": {
      "needs_background": "light"
     },
     "output_type": "display_data"
    },
    {
     "data": {
      "image/png": "[encoded data removed]",
      "text/plain": [
       "<Figure size 432x288 with 1 Axes>"
      ]
     },
     "metadata": {
      "needs_background": "light"
     },
     "output_type": "display_data"
    }
   ],
   "source": [
    "features= [\"Kilometerstand\", \"Leistung\", \"Alter\"]\n",
    "\n",
    "for i in features:\n",
    "    plt.hist(df[i])\n",
    "    plt.title(i)\n",
    "    plt.show();"
   ]
  },
  {
   "cell_type": "code",
   "execution_count": 40,
   "id": "5f79e601",
   "metadata": {},
   "outputs": [],
   "source": [
    "from sklearn.preprocessing import RobustScaler\n",
    "\n",
    "features= [\"Kilometerstand\", \"Leistung\", \"Alter\"]\n",
    "\n",
    "scaler = RobustScaler()\n",
    "\n",
    "for feature in features:\n",
    "    \n",
    "    scaler.fit(df[[feature]])\n",
    "    \n",
    "    df[feature] = scaler.transform(df[[feature]])"
   ]
  },
  {
   "cell_type": "code",
   "execution_count": 41,
   "id": "346c9df4",
   "metadata": {},
   "outputs": [],
   "source": [
    "df.dropna(inplace= True)"
   ]
  },
  {
   "cell_type": "code",
   "execution_count": 42,
   "id": "0555dd28",
   "metadata": {},
   "outputs": [
    {
     "data": {
      "text/html": [
       "<div>\n",
       "<style scoped>\n",
       "    .dataframe tbody tr th:only-of-type {\n",
       "        vertical-align: middle;\n",
       "    }\n",
       "\n",
       "    .dataframe tbody tr th {\n",
       "        vertical-align: top;\n",
       "    }\n",
       "\n",
       "    .dataframe thead th {\n",
       "        text-align: right;\n",
       "    }\n",
       "</style>\n",
       "<table border=\"1\" class=\"dataframe\">\n",
       "  <thead>\n",
       "    <tr style=\"text-align: right;\">\n",
       "      <th></th>\n",
       "      <th>Kilometerstand</th>\n",
       "      <th>Leistung</th>\n",
       "      <th>Getriebe</th>\n",
       "      <th>Fahrzeugzustand</th>\n",
       "      <th>price</th>\n",
       "      <th>Alter</th>\n",
       "      <th>Marke_Audi</th>\n",
       "      <th>Marke_BMW</th>\n",
       "      <th>Marke_Chevrolet</th>\n",
       "      <th>Marke_Chrysler</th>\n",
       "      <th>...</th>\n",
       "      <th>Marke_Volkswagen</th>\n",
       "      <th>Marke_Volvo</th>\n",
       "      <th>Marke_Weitere Automarken</th>\n",
       "      <th>Fahrzeugtyp_Cabrio</th>\n",
       "      <th>Fahrzeugtyp_Coupé</th>\n",
       "      <th>Fahrzeugtyp_Kleinwagen</th>\n",
       "      <th>Fahrzeugtyp_Kombi</th>\n",
       "      <th>Fahrzeugtyp_Limousine</th>\n",
       "      <th>Fahrzeugtyp_SUV/Geländewagen</th>\n",
       "      <th>Fahrzeugtyp_Van/Bus</th>\n",
       "    </tr>\n",
       "  </thead>\n",
       "  <tbody>\n",
       "    <tr>\n",
       "      <th>0</th>\n",
       "      <td>-0.524324</td>\n",
       "      <td>5.619718</td>\n",
       "      <td>0</td>\n",
       "      <td>0</td>\n",
       "      <td>67900.0</td>\n",
       "      <td>-0.8</td>\n",
       "      <td>0</td>\n",
       "      <td>0</td>\n",
       "      <td>0</td>\n",
       "      <td>0</td>\n",
       "      <td>...</td>\n",
       "      <td>0</td>\n",
       "      <td>0</td>\n",
       "      <td>0</td>\n",
       "      <td>0</td>\n",
       "      <td>0</td>\n",
       "      <td>0</td>\n",
       "      <td>0</td>\n",
       "      <td>0</td>\n",
       "      <td>1</td>\n",
       "      <td>0</td>\n",
       "    </tr>\n",
       "    <tr>\n",
       "      <th>1</th>\n",
       "      <td>0.891892</td>\n",
       "      <td>-0.211268</td>\n",
       "      <td>1</td>\n",
       "      <td>0</td>\n",
       "      <td>1500.0</td>\n",
       "      <td>0.8</td>\n",
       "      <td>0</td>\n",
       "      <td>1</td>\n",
       "      <td>0</td>\n",
       "      <td>0</td>\n",
       "      <td>...</td>\n",
       "      <td>0</td>\n",
       "      <td>0</td>\n",
       "      <td>0</td>\n",
       "      <td>0</td>\n",
       "      <td>0</td>\n",
       "      <td>0</td>\n",
       "      <td>1</td>\n",
       "      <td>0</td>\n",
       "      <td>0</td>\n",
       "      <td>0</td>\n",
       "    </tr>\n",
       "    <tr>\n",
       "      <th>2</th>\n",
       "      <td>-1.044360</td>\n",
       "      <td>0.549296</td>\n",
       "      <td>0</td>\n",
       "      <td>0</td>\n",
       "      <td>22700.0</td>\n",
       "      <td>-1.0</td>\n",
       "      <td>0</td>\n",
       "      <td>0</td>\n",
       "      <td>0</td>\n",
       "      <td>0</td>\n",
       "      <td>...</td>\n",
       "      <td>0</td>\n",
       "      <td>0</td>\n",
       "      <td>0</td>\n",
       "      <td>0</td>\n",
       "      <td>0</td>\n",
       "      <td>0</td>\n",
       "      <td>1</td>\n",
       "      <td>0</td>\n",
       "      <td>0</td>\n",
       "      <td>0</td>\n",
       "    </tr>\n",
       "    <tr>\n",
       "      <th>3</th>\n",
       "      <td>0.135135</td>\n",
       "      <td>-0.408451</td>\n",
       "      <td>1</td>\n",
       "      <td>0</td>\n",
       "      <td>3900.0</td>\n",
       "      <td>0.3</td>\n",
       "      <td>1</td>\n",
       "      <td>0</td>\n",
       "      <td>0</td>\n",
       "      <td>0</td>\n",
       "      <td>...</td>\n",
       "      <td>0</td>\n",
       "      <td>0</td>\n",
       "      <td>0</td>\n",
       "      <td>0</td>\n",
       "      <td>0</td>\n",
       "      <td>0</td>\n",
       "      <td>0</td>\n",
       "      <td>1</td>\n",
       "      <td>0</td>\n",
       "      <td>0</td>\n",
       "    </tr>\n",
       "    <tr>\n",
       "      <th>4</th>\n",
       "      <td>-0.910766</td>\n",
       "      <td>-0.845070</td>\n",
       "      <td>0</td>\n",
       "      <td>0</td>\n",
       "      <td>9979.0</td>\n",
       "      <td>-0.7</td>\n",
       "      <td>0</td>\n",
       "      <td>0</td>\n",
       "      <td>0</td>\n",
       "      <td>0</td>\n",
       "      <td>...</td>\n",
       "      <td>0</td>\n",
       "      <td>0</td>\n",
       "      <td>0</td>\n",
       "      <td>0</td>\n",
       "      <td>0</td>\n",
       "      <td>0</td>\n",
       "      <td>0</td>\n",
       "      <td>1</td>\n",
       "      <td>0</td>\n",
       "      <td>0</td>\n",
       "    </tr>\n",
       "  </tbody>\n",
       "</table>\n",
       "<p>5 rows × 54 columns</p>\n",
       "</div>"
      ],
      "text/plain": [
       "   Kilometerstand  Leistung  Getriebe  Fahrzeugzustand    price  Alter  \\\n",
       "0       -0.524324  5.619718         0                0  67900.0   -0.8   \n",
       "1        0.891892 -0.211268         1                0   1500.0    0.8   \n",
       "2       -1.044360  0.549296         0                0  22700.0   -1.0   \n",
       "3        0.135135 -0.408451         1                0   3900.0    0.3   \n",
       "4       -0.910766 -0.845070         0                0   9979.0   -0.7   \n",
       "\n",
       "   Marke_Audi  Marke_BMW  Marke_Chevrolet  Marke_Chrysler  ...  \\\n",
       "0           0          0                0               0  ...   \n",
       "1           0          1                0               0  ...   \n",
       "2           0          0                0               0  ...   \n",
       "3           1          0                0               0  ...   \n",
       "4           0          0                0               0  ...   \n",
       "\n",
       "   Marke_Volkswagen  Marke_Volvo  Marke_Weitere Automarken  \\\n",
       "0                 0            0                         0   \n",
       "1                 0            0                         0   \n",
       "2                 0            0                         0   \n",
       "3                 0            0                         0   \n",
       "4                 0            0                         0   \n",
       "\n",
       "   Fahrzeugtyp_Cabrio  Fahrzeugtyp_Coupé  Fahrzeugtyp_Kleinwagen  \\\n",
       "0                   0                  0                       0   \n",
       "1                   0                  0                       0   \n",
       "2                   0                  0                       0   \n",
       "3                   0                  0                       0   \n",
       "4                   0                  0                       0   \n",
       "\n",
       "   Fahrzeugtyp_Kombi  Fahrzeugtyp_Limousine  Fahrzeugtyp_SUV/Geländewagen  \\\n",
       "0                  0                      0                             1   \n",
       "1                  1                      0                             0   \n",
       "2                  1                      0                             0   \n",
       "3                  0                      1                             0   \n",
       "4                  0                      1                             0   \n",
       "\n",
       "   Fahrzeugtyp_Van/Bus  \n",
       "0                    0  \n",
       "1                    0  \n",
       "2                    0  \n",
       "3                    0  \n",
       "4                    0  \n",
       "\n",
       "[5 rows x 54 columns]"
      ]
     },
     "execution_count": 42,
     "metadata": {},
     "output_type": "execute_result"
    }
   ],
   "source": [
    "df.head()"
   ]
  },
  {
   "cell_type": "markdown",
   "id": "e0a5aa09",
   "metadata": {},
   "source": [
    "# Applying Model"
   ]
  },
  {
   "cell_type": "code",
   "execution_count": 43,
   "id": "3d9b4ef5",
   "metadata": {},
   "outputs": [],
   "source": [
    "from sklearn.linear_model import LinearRegression\n",
    "from sklearn.model_selection import cross_validate\n",
    "from sklearn.model_selection import train_test_split\n",
    "from sklearn.inspection import permutation_importance"
   ]
  },
  {
   "cell_type": "code",
   "execution_count": 44,
   "id": "6fa61405",
   "metadata": {},
   "outputs": [],
   "source": [
    "X = df.drop(columns=\"price\")\n",
    "\n",
    "y = df[\"price\"]"
   ]
  },
  {
   "cell_type": "markdown",
   "id": "91d0fba4",
   "metadata": {},
   "source": [
    "### Training simple LinearRegression Model"
   ]
  },
  {
   "cell_type": "code",
   "execution_count": 45,
   "id": "5abd83b6",
   "metadata": {},
   "outputs": [
    {
     "data": {
      "text/plain": [
       "0.5553293671127947"
      ]
     },
     "execution_count": 45,
     "metadata": {},
     "output_type": "execute_result"
    }
   ],
   "source": [
    "model = LinearRegression()\n",
    "\n",
    "cv_result = cross_validate(model, X, y)\n",
    "\n",
    "score = cv_result[\"test_score\"].mean()\n",
    "\n",
    "score"
   ]
  },
  {
   "cell_type": "code",
   "execution_count": 46,
   "id": "d5acccbd",
   "metadata": {},
   "outputs": [
    {
     "data": {
      "text/plain": [
       "0.6228041020172128"
      ]
     },
     "execution_count": 46,
     "metadata": {},
     "output_type": "execute_result"
    }
   ],
   "source": [
    "X_train, X_test, y_train, y_test = train_test_split(X, y, test_size=0.3, random_state= 1)\n",
    "\n",
    "model = LinearRegression().fit(X_train, y_train)\n",
    "\n",
    "model.score(X_test, y_test)"
   ]
  },
  {
   "cell_type": "markdown",
   "id": "21892055",
   "metadata": {},
   "source": [
    "### Feature Permutation to assess feature importance"
   ]
  },
  {
   "cell_type": "code",
   "execution_count": 47,
   "id": "99cdad22",
   "metadata": {},
   "outputs": [
    {
     "ename": "NameError",
     "evalue": "name 'np' is not defined",
     "output_type": "error",
     "traceback": [
      "\u001b[0;31m---------------------------------------------------------------------------\u001b[0m",
      "\u001b[0;31mNameError\u001b[0m                                 Traceback (most recent call last)",
      "\u001b[0;32m/var/folders/2s/hl8h12kx35b4f1bh9818nxj00000gn/T/ipykernel_3638/3193925649.py\u001b[0m in \u001b[0;36m<module>\u001b[0;34m\u001b[0m\n\u001b[1;32m      1\u001b[0m \u001b[0mpermutation_score\u001b[0m \u001b[0;34m=\u001b[0m \u001b[0mpermutation_importance\u001b[0m\u001b[0;34m(\u001b[0m\u001b[0mmodel\u001b[0m\u001b[0;34m,\u001b[0m \u001b[0mX\u001b[0m\u001b[0;34m,\u001b[0m \u001b[0my\u001b[0m\u001b[0;34m,\u001b[0m \u001b[0mn_repeats\u001b[0m\u001b[0;34m=\u001b[0m\u001b[0;36m10\u001b[0m\u001b[0;34m)\u001b[0m \u001b[0;31m# Perform Permutation\u001b[0m\u001b[0;34m\u001b[0m\u001b[0;34m\u001b[0m\u001b[0m\n\u001b[1;32m      2\u001b[0m \u001b[0;34m\u001b[0m\u001b[0m\n\u001b[0;32m----> 3\u001b[0;31m importance_df = pd.DataFrame(np.vstack((X.columns,\n\u001b[0m\u001b[1;32m      4\u001b[0m                                         permutation_score.importances_mean)).T) # Unstack results\n\u001b[1;32m      5\u001b[0m \u001b[0mimportance_df\u001b[0m\u001b[0;34m.\u001b[0m\u001b[0mcolumns\u001b[0m\u001b[0;34m=\u001b[0m\u001b[0;34m[\u001b[0m\u001b[0;34m'feature'\u001b[0m\u001b[0;34m,\u001b[0m\u001b[0;34m'score decrease'\u001b[0m\u001b[0;34m]\u001b[0m\u001b[0;34m\u001b[0m\u001b[0;34m\u001b[0m\u001b[0m\n",
      "\u001b[0;31mNameError\u001b[0m: name 'np' is not defined"
     ]
    }
   ],
   "source": [
    "permutation_score = permutation_importance(model, X, y, n_repeats=10) # Perform Permutation\n",
    "\n",
    "importance_df = pd.DataFrame(np.vstack((X.columns,\n",
    "                                        permutation_score.importances_mean)).T) # Unstack results\n",
    "importance_df.columns=['feature','score decrease']\n",
    "\n",
    "importance_df.sort_values(by=\"score decrease\", ascending = False) # Order by importance\n",
    "\n",
    "importance_df"
   ]
  },
  {
   "cell_type": "code",
   "execution_count": null,
   "id": "2c7e842b",
   "metadata": {},
   "outputs": [],
   "source": [
    "x_axis= []\n",
    "y_axis= []\n",
    "\n",
    "for i in range(1,21):\n",
    "\n",
    "    new_features = importance_df.sort_values(by=\"score decrease\", ascending = False)[\"feature\"][:i]\n",
    "\n",
    "    X_new = df[new_features]\n",
    "\n",
    "    X_train, X_test, y_train, y_test = train_test_split(X_new, y, test_size=0.3, random_state= 1)\n",
    "\n",
    "    model = LinearRegression().fit(X_train, y_train)\n",
    "\n",
    "    score = model.score(X_test, y_test)\n",
    "    \n",
    "    y_axis.append(score)\n",
    "    \n",
    "    x_axis = list(new_features)\n",
    "    \n",
    "plt.figure(figsize= (20,10))\n",
    "plt.plot(x_axis, y_axis, color= \"green\")\n",
    "plt.title(\"Increase in R2 after adding features (relevance given by permutation)\", size= 20)\n",
    "plt.ylabel(\"R2\", size= 15)\n",
    "plt.yticks(size=12)\n",
    "plt.xticks(rotation= 60, size= 12);"
   ]
  },
  {
   "cell_type": "markdown",
   "id": "6353c29d",
   "metadata": {},
   "source": [
    "## Learning Curves"
   ]
  },
  {
   "cell_type": "code",
   "execution_count": null,
   "id": "e70b4d31",
   "metadata": {},
   "outputs": [],
   "source": [
    "import numpy as np\n",
    "from sklearn.model_selection import learning_curve\n",
    "import matplotlib.pyplot as plt\n",
    "\n",
    "X = df.drop(columns=\"price\")\n",
    "y = df[\"price\"]\n",
    "\n",
    "train_sizes = [1,25,50,75,100,125,150,175,200]\n",
    "# Get train scores (R2), train sizes, and validation scores using `learning_curve`\n",
    "train_sizes, train_scores, test_scores = learning_curve(\n",
    "    estimator=LinearRegression(), X=X, y=y, train_sizes=train_sizes, cv=5)\n",
    "\n",
    "# Take the mean of cross-validated train scores and validation scores\n",
    "train_scores_mean = np.mean(train_scores, axis=1)\n",
    "test_scores_mean = np.mean(test_scores, axis=1)\n",
    "\n",
    "plt.plot(train_sizes, train_scores_mean, label = 'Training score')\n",
    "plt.plot(train_sizes, test_scores_mean, label = 'Test score')\n",
    "plt.ylabel('r2 score', fontsize = 14)\n",
    "plt.xlabel('Training set size', fontsize = 14)\n",
    "plt.title('Learning curves', fontsize = 18, y = 1.03)\n",
    "plt.legend()"
   ]
  },
  {
   "cell_type": "markdown",
   "id": "c9cdc9fb",
   "metadata": {},
   "source": [
    "# Python function to predict price"
   ]
  },
  {
   "cell_type": "code",
   "execution_count": null,
   "id": "0c788e4a",
   "metadata": {},
   "outputs": [],
   "source": [
    "ebay.dropna(inplace= True)"
   ]
  },
  {
   "cell_type": "code",
   "execution_count": null,
   "id": "1469fa3a",
   "metadata": {},
   "outputs": [],
   "source": [
    "from sklearn.linear_model import LinearRegression\n",
    "\n",
    "model= LinearRegression()\n",
    "\n",
    "X = df[[\"Kilometerstand\", \"Leistung\", \"Alter\"]]\n",
    "y= df[\"price\"]\n",
    "\n",
    "model.fit(X,y)"
   ]
  },
  {
   "cell_type": "code",
   "execution_count": null,
   "id": "171b4f01",
   "metadata": {},
   "outputs": [],
   "source": [
    "def get_car_price(km, ps, age, model):\n",
    "    \n",
    "    X = [[km,ps,age]]\n",
    "    \n",
    "    prediction= f\"{round(model.predict(X)[0],2)} €\"\n",
    "    \n",
    "    return prediction"
   ]
  },
  {
   "cell_type": "code",
   "execution_count": null,
   "id": "8d48e56c",
   "metadata": {},
   "outputs": [],
   "source": [
    "get_car_price(19800,670,6,model)"
   ]
  },
  {
   "cell_type": "code",
   "execution_count": null,
   "id": "e314f2b8",
   "metadata": {},
   "outputs": [],
   "source": []
  },
  {
   "cell_type": "markdown",
   "id": "744c092b",
   "metadata": {},
   "source": [
    "# Sandbox"
   ]
  },
  {
   "cell_type": "code",
   "execution_count": null,
   "id": "643bb53f",
   "metadata": {},
   "outputs": [],
   "source": [
    "ebay.select_dtypes(include=\"int\").boxplot();"
   ]
  }
 ],
 "metadata": {
  "kernelspec": {
   "display_name": "Python 3 (ipykernel)",
   "language": "python",
   "name": "python3"
  },
  "language_info": {
   "codemirror_mode": {
    "name": "ipython",
    "version": 3
   },
   "file_extension": ".py",
   "mimetype": "text/x-python",
   "name": "python",
   "nbconvert_exporter": "python",
   "pygments_lexer": "ipython3",
   "version": "3.8.12"
  },
  "toc": {
   "base_numbering": 1,
   "nav_menu": {},
   "number_sections": true,
   "sideBar": true,
   "skip_h1_title": false,
   "title_cell": "Table of Contents",
   "title_sidebar": "Contents",
   "toc_cell": false,
   "toc_position": {},
   "toc_section_display": true,
   "toc_window_display": false
  }
 },
 "nbformat": 4,
 "nbformat_minor": 5
}
